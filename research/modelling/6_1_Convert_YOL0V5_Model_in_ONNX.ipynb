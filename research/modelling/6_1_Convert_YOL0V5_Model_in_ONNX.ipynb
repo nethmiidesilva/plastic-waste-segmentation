{
  "cells": [
    {
      "cell_type": "markdown",
      "source": [
        "## 0. Setup\n",
        "\n",
        "Install ultralytics to easily get access to YOLO tools.\n"
      ],
      "metadata": {
        "id": "5VslSFVtQ6HK"
      }
    },
    {
      "cell_type": "code",
      "source": [
        "!pip install ultralytics onnx onnx-simplifier onnxruntime"
      ],
      "metadata": {
        "colab": {
          "base_uri": "https://localhost:8080/"
        },
        "id": "zUWkQvEtREcU",
        "outputId": "31f3a1a2-146a-47da-d600-4197ca5945e6"
      },
      "execution_count": 1,
      "outputs": [
        {
          "output_type": "stream",
          "name": "stdout",
          "text": [
            "Collecting ultralytics\n",
            "  Downloading ultralytics-8.3.58-py3-none-any.whl.metadata (35 kB)\n",
            "Collecting onnx\n",
            "  Downloading onnx-1.17.0-cp310-cp310-manylinux_2_17_x86_64.manylinux2014_x86_64.whl.metadata (16 kB)\n",
            "Collecting onnx-simplifier\n",
            "  Downloading onnx_simplifier-0.4.36-cp310-cp310-manylinux_2_17_x86_64.manylinux2014_x86_64.whl.metadata (4.3 kB)\n",
            "Collecting onnxruntime\n",
            "  Downloading onnxruntime-1.20.1-cp310-cp310-manylinux_2_27_x86_64.manylinux_2_28_x86_64.whl.metadata (4.5 kB)\n",
            "Requirement already satisfied: numpy>=1.23.0 in /usr/local/lib/python3.10/dist-packages (from ultralytics) (1.26.4)\n",
            "Requirement already satisfied: matplotlib>=3.3.0 in /usr/local/lib/python3.10/dist-packages (from ultralytics) (3.8.0)\n",
            "Requirement already satisfied: opencv-python>=4.6.0 in /usr/local/lib/python3.10/dist-packages (from ultralytics) (4.10.0.84)\n",
            "Requirement already satisfied: pillow>=7.1.2 in /usr/local/lib/python3.10/dist-packages (from ultralytics) (11.0.0)\n",
            "Requirement already satisfied: pyyaml>=5.3.1 in /usr/local/lib/python3.10/dist-packages (from ultralytics) (6.0.2)\n",
            "Requirement already satisfied: requests>=2.23.0 in /usr/local/lib/python3.10/dist-packages (from ultralytics) (2.32.3)\n",
            "Requirement already satisfied: scipy>=1.4.1 in /usr/local/lib/python3.10/dist-packages (from ultralytics) (1.13.1)\n",
            "Requirement already satisfied: torch>=1.8.0 in /usr/local/lib/python3.10/dist-packages (from ultralytics) (2.5.1+cu121)\n",
            "Requirement already satisfied: torchvision>=0.9.0 in /usr/local/lib/python3.10/dist-packages (from ultralytics) (0.20.1+cu121)\n",
            "Requirement already satisfied: tqdm>=4.64.0 in /usr/local/lib/python3.10/dist-packages (from ultralytics) (4.67.1)\n",
            "Requirement already satisfied: psutil in /usr/local/lib/python3.10/dist-packages (from ultralytics) (5.9.5)\n",
            "Requirement already satisfied: py-cpuinfo in /usr/local/lib/python3.10/dist-packages (from ultralytics) (9.0.0)\n",
            "Requirement already satisfied: pandas>=1.1.4 in /usr/local/lib/python3.10/dist-packages (from ultralytics) (2.2.2)\n",
            "Requirement already satisfied: seaborn>=0.11.0 in /usr/local/lib/python3.10/dist-packages (from ultralytics) (0.13.2)\n",
            "Collecting ultralytics-thop>=2.0.0 (from ultralytics)\n",
            "  Downloading ultralytics_thop-2.0.13-py3-none-any.whl.metadata (9.4 kB)\n",
            "Requirement already satisfied: protobuf>=3.20.2 in /usr/local/lib/python3.10/dist-packages (from onnx) (4.25.5)\n",
            "Requirement already satisfied: rich in /usr/local/lib/python3.10/dist-packages (from onnx-simplifier) (13.9.4)\n",
            "Collecting coloredlogs (from onnxruntime)\n",
            "  Downloading coloredlogs-15.0.1-py2.py3-none-any.whl.metadata (12 kB)\n",
            "Requirement already satisfied: flatbuffers in /usr/local/lib/python3.10/dist-packages (from onnxruntime) (24.3.25)\n",
            "Requirement already satisfied: packaging in /usr/local/lib/python3.10/dist-packages (from onnxruntime) (24.2)\n",
            "Requirement already satisfied: sympy in /usr/local/lib/python3.10/dist-packages (from onnxruntime) (1.13.1)\n",
            "Requirement already satisfied: contourpy>=1.0.1 in /usr/local/lib/python3.10/dist-packages (from matplotlib>=3.3.0->ultralytics) (1.3.1)\n",
            "Requirement already satisfied: cycler>=0.10 in /usr/local/lib/python3.10/dist-packages (from matplotlib>=3.3.0->ultralytics) (0.12.1)\n",
            "Requirement already satisfied: fonttools>=4.22.0 in /usr/local/lib/python3.10/dist-packages (from matplotlib>=3.3.0->ultralytics) (4.55.3)\n",
            "Requirement already satisfied: kiwisolver>=1.0.1 in /usr/local/lib/python3.10/dist-packages (from matplotlib>=3.3.0->ultralytics) (1.4.7)\n",
            "Requirement already satisfied: pyparsing>=2.3.1 in /usr/local/lib/python3.10/dist-packages (from matplotlib>=3.3.0->ultralytics) (3.2.0)\n",
            "Requirement already satisfied: python-dateutil>=2.7 in /usr/local/lib/python3.10/dist-packages (from matplotlib>=3.3.0->ultralytics) (2.8.2)\n",
            "Requirement already satisfied: pytz>=2020.1 in /usr/local/lib/python3.10/dist-packages (from pandas>=1.1.4->ultralytics) (2024.2)\n",
            "Requirement already satisfied: tzdata>=2022.7 in /usr/local/lib/python3.10/dist-packages (from pandas>=1.1.4->ultralytics) (2024.2)\n",
            "Requirement already satisfied: charset-normalizer<4,>=2 in /usr/local/lib/python3.10/dist-packages (from requests>=2.23.0->ultralytics) (3.4.0)\n",
            "Requirement already satisfied: idna<4,>=2.5 in /usr/local/lib/python3.10/dist-packages (from requests>=2.23.0->ultralytics) (3.10)\n",
            "Requirement already satisfied: urllib3<3,>=1.21.1 in /usr/local/lib/python3.10/dist-packages (from requests>=2.23.0->ultralytics) (2.2.3)\n",
            "Requirement already satisfied: certifi>=2017.4.17 in /usr/local/lib/python3.10/dist-packages (from requests>=2.23.0->ultralytics) (2024.12.14)\n",
            "Requirement already satisfied: filelock in /usr/local/lib/python3.10/dist-packages (from torch>=1.8.0->ultralytics) (3.16.1)\n",
            "Requirement already satisfied: typing-extensions>=4.8.0 in /usr/local/lib/python3.10/dist-packages (from torch>=1.8.0->ultralytics) (4.12.2)\n",
            "Requirement already satisfied: networkx in /usr/local/lib/python3.10/dist-packages (from torch>=1.8.0->ultralytics) (3.4.2)\n",
            "Requirement already satisfied: jinja2 in /usr/local/lib/python3.10/dist-packages (from torch>=1.8.0->ultralytics) (3.1.4)\n",
            "Requirement already satisfied: fsspec in /usr/local/lib/python3.10/dist-packages (from torch>=1.8.0->ultralytics) (2024.10.0)\n",
            "Requirement already satisfied: mpmath<1.4,>=1.1.0 in /usr/local/lib/python3.10/dist-packages (from sympy->onnxruntime) (1.3.0)\n",
            "Collecting humanfriendly>=9.1 (from coloredlogs->onnxruntime)\n",
            "  Downloading humanfriendly-10.0-py2.py3-none-any.whl.metadata (9.2 kB)\n",
            "Requirement already satisfied: markdown-it-py>=2.2.0 in /usr/local/lib/python3.10/dist-packages (from rich->onnx-simplifier) (3.0.0)\n",
            "Requirement already satisfied: pygments<3.0.0,>=2.13.0 in /usr/local/lib/python3.10/dist-packages (from rich->onnx-simplifier) (2.18.0)\n",
            "Requirement already satisfied: mdurl~=0.1 in /usr/local/lib/python3.10/dist-packages (from markdown-it-py>=2.2.0->rich->onnx-simplifier) (0.1.2)\n",
            "Requirement already satisfied: six>=1.5 in /usr/local/lib/python3.10/dist-packages (from python-dateutil>=2.7->matplotlib>=3.3.0->ultralytics) (1.17.0)\n",
            "Requirement already satisfied: MarkupSafe>=2.0 in /usr/local/lib/python3.10/dist-packages (from jinja2->torch>=1.8.0->ultralytics) (3.0.2)\n",
            "Downloading ultralytics-8.3.58-py3-none-any.whl (905 kB)\n",
            "\u001b[2K   \u001b[90m━━━━━━━━━━━━━━━━━━━━━━━━━━━━━━━━━━━━━━━━\u001b[0m \u001b[32m905.3/905.3 kB\u001b[0m \u001b[31m22.2 MB/s\u001b[0m eta \u001b[36m0:00:00\u001b[0m\n",
            "\u001b[?25hDownloading onnx-1.17.0-cp310-cp310-manylinux_2_17_x86_64.manylinux2014_x86_64.whl (16.0 MB)\n",
            "\u001b[2K   \u001b[90m━━━━━━━━━━━━━━━━━━━━━━━━━━━━━━━━━━━━━━━━\u001b[0m \u001b[32m16.0/16.0 MB\u001b[0m \u001b[31m67.6 MB/s\u001b[0m eta \u001b[36m0:00:00\u001b[0m\n",
            "\u001b[?25hDownloading onnx_simplifier-0.4.36-cp310-cp310-manylinux_2_17_x86_64.manylinux2014_x86_64.whl (2.3 MB)\n",
            "\u001b[2K   \u001b[90m━━━━━━━━━━━━━━━━━━━━━━━━━━━━━━━━━━━━━━━━\u001b[0m \u001b[32m2.3/2.3 MB\u001b[0m \u001b[31m41.6 MB/s\u001b[0m eta \u001b[36m0:00:00\u001b[0m\n",
            "\u001b[?25hDownloading onnxruntime-1.20.1-cp310-cp310-manylinux_2_27_x86_64.manylinux_2_28_x86_64.whl (13.3 MB)\n",
            "\u001b[2K   \u001b[90m━━━━━━━━━━━━━━━━━━━━━━━━━━━━━━━━━━━━━━━━\u001b[0m \u001b[32m13.3/13.3 MB\u001b[0m \u001b[31m33.4 MB/s\u001b[0m eta \u001b[36m0:00:00\u001b[0m\n",
            "\u001b[?25hDownloading ultralytics_thop-2.0.13-py3-none-any.whl (26 kB)\n",
            "Downloading coloredlogs-15.0.1-py2.py3-none-any.whl (46 kB)\n",
            "\u001b[2K   \u001b[90m━━━━━━━━━━━━━━━━━━━━━━━━━━━━━━━━━━━━━━━━\u001b[0m \u001b[32m46.0/46.0 kB\u001b[0m \u001b[31m2.1 MB/s\u001b[0m eta \u001b[36m0:00:00\u001b[0m\n",
            "\u001b[?25hDownloading humanfriendly-10.0-py2.py3-none-any.whl (86 kB)\n",
            "\u001b[2K   \u001b[90m━━━━━━━━━━━━━━━━━━━━━━━━━━━━━━━━━━━━━━━━\u001b[0m \u001b[32m86.8/86.8 kB\u001b[0m \u001b[31m6.6 MB/s\u001b[0m eta \u001b[36m0:00:00\u001b[0m\n",
            "\u001b[?25hInstalling collected packages: onnx, humanfriendly, coloredlogs, ultralytics-thop, onnxruntime, onnx-simplifier, ultralytics\n",
            "Successfully installed coloredlogs-15.0.1 humanfriendly-10.0 onnx-1.17.0 onnx-simplifier-0.4.36 onnxruntime-1.20.1 ultralytics-8.3.58 ultralytics-thop-2.0.13\n"
          ]
        }
      ]
    },
    {
      "cell_type": "code",
      "source": [
        "from google.colab import drive\n",
        "drive.mount('/content/drive')"
      ],
      "metadata": {
        "colab": {
          "base_uri": "https://localhost:8080/"
        },
        "id": "fVLj5R4_f05B",
        "outputId": "3e6aee74-4082-4ae5-d445-f2538a1812d0"
      },
      "execution_count": 2,
      "outputs": [
        {
          "output_type": "stream",
          "name": "stdout",
          "text": [
            "Mounted at /content/drive\n"
          ]
        }
      ]
    },
    {
      "cell_type": "code",
      "source": [
        "!git clone https://github.com/ultralytics/yolov5\n",
        "%cd yolov5\n",
        "%pip install -qr requirements.txt  # install"
      ],
      "metadata": {
        "colab": {
          "base_uri": "https://localhost:8080/"
        },
        "id": "whEOfUL-q7eA",
        "outputId": "4fd9db91-0ab4-4264-f39c-c88df2053908"
      },
      "execution_count": 20,
      "outputs": [
        {
          "output_type": "stream",
          "name": "stdout",
          "text": [
            "Cloning into 'yolov5'...\n",
            "remote: Enumerating objects: 17093, done.\u001b[K\n",
            "remote: Counting objects: 100% (36/36), done.\u001b[K\n",
            "remote: Compressing objects: 100% (29/29), done.\u001b[K\n",
            "remote: Total 17093 (delta 23), reused 8 (delta 7), pack-reused 17057 (from 5)\u001b[K\n",
            "Receiving objects: 100% (17093/17093), 15.70 MiB | 16.63 MiB/s, done.\n",
            "Resolving deltas: 100% (11728/11728), done.\n",
            "/content/yolov5\n"
          ]
        }
      ]
    },
    {
      "cell_type": "code",
      "source": [
        "!ls"
      ],
      "metadata": {
        "colab": {
          "base_uri": "https://localhost:8080/"
        },
        "id": "MVsNCk0jrG6D",
        "outputId": "1a6be4a8-1059-4eea-90cc-07e7647b0942"
      },
      "execution_count": 21,
      "outputs": [
        {
          "output_type": "stream",
          "name": "stdout",
          "text": [
            "benchmarks.py\t data\t     LICENSE\t     README.zh-CN.md   tutorial.ipynb\n",
            "CITATION.cff\t detect.py   models\t     requirements.txt  utils\n",
            "classify\t export.py   pyproject.toml  segment\t       val.py\n",
            "CONTRIBUTING.md  hubconf.py  README.md\t     train.py\n"
          ]
        }
      ]
    },
    {
      "cell_type": "markdown",
      "metadata": {
        "id": "7mGmQbAO5pQb"
      },
      "source": [
        "## 1. Convert model\n",
        "❗If you don't have a Nvidia GPU, set `optimize_cpu=True` to optimize for CPU inference."
      ]
    },
    {
      "cell_type": "code",
      "execution_count": 27,
      "metadata": {
        "colab": {
          "base_uri": "https://localhost:8080/"
        },
        "id": "wbvMlHd_QwMG",
        "outputId": "ce5b724c-7e5a-4b5f-965d-15177dda76c6"
      },
      "outputs": [
        {
          "output_type": "stream",
          "name": "stdout",
          "text": [
            "\u001b[34m\u001b[1mexport: \u001b[0mdata=data/coco128.yaml, weights=['/content/drive/MyDrive/Aerial_River_Plastic_Wastes/yolov5x.pt'], imgsz=[640, 640], batch_size=1, device=cpu, half=False, inplace=False, keras=False, optimize=False, int8=False, per_tensor=False, dynamic=False, cache=, simplify=False, mlmodel=False, opset=17, verbose=False, workspace=4, nms=False, agnostic_nms=False, topk_per_class=100, topk_all=100, iou_thres=0.45, conf_thres=0.25, include=['onnx']\n",
            "YOLOv5 🚀 v7.0-393-g6981c274 Python-3.10.12 torch-2.5.1+cu121 CPU\n",
            "\n",
            "Fusing layers... \n",
            "Model summary: 330 layers, 88249583 parameters, 0 gradients, 264.0 GFLOPs\n",
            "\n",
            "\u001b[34m\u001b[1mPyTorch:\u001b[0m starting from /content/drive/MyDrive/Aerial_River_Plastic_Wastes/yolov5x.pt with output shape (1, 25200, 39) (169.1 MB)\n",
            "\n",
            "\u001b[34m\u001b[1mONNX:\u001b[0m starting export with onnx 1.17.0...\n",
            "\u001b[34m\u001b[1mONNX:\u001b[0m export success ✅ 16.0s, saved as /content/drive/MyDrive/Aerial_River_Plastic_Wastes/yolov5x.onnx (337.1 MB)\n",
            "\n",
            "Export complete (26.0s)\n",
            "Results saved to \u001b[1m/content/drive/MyDrive/Aerial_River_Plastic_Wastes\u001b[0m\n",
            "Detect:          python segment/predict.py --weights /content/drive/MyDrive/Aerial_River_Plastic_Wastes/yolov5x.onnx \n",
            "Validate:        python segment/val.py --weights /content/drive/MyDrive/Aerial_River_Plastic_Wastes/yolov5x.onnx \n",
            "PyTorch Hub:     model = torch.hub.load('ultralytics/yolov5', 'custom', '/content/drive/MyDrive/Aerial_River_Plastic_Wastes/yolov5x.onnx')  # WARNING ⚠️ SegmentationModel not yet supported for PyTorch Hub AutoShape inference\n",
            "Visualize:       https://netron.app\n"
          ]
        }
      ],
      "source": [
        "!python export.py --weights /content/drive/MyDrive/Aerial_River_Plastic_Wastes/yolov5x.pt --include onnx"
      ]
    },
    {
      "cell_type": "code",
      "source": [
        "!onnxsim /content/drive/MyDrive/Aerial_River_Plastic_Wastes/yolov5x.onnx /content/drive/MyDrive/Aerial_River_Plastic_Wastes/yolov5x.onnx"
      ],
      "metadata": {
        "colab": {
          "base_uri": "https://localhost:8080/"
        },
        "id": "L0MgENNnYZ7o",
        "outputId": "2084cd14-e8a3-4c82-b842-941bc07ab094"
      },
      "execution_count": 28,
      "outputs": [
        {
          "output_type": "stream",
          "name": "stdout",
          "text": [
            "Simplifying\u001b[33m...\u001b[0m\n",
            "Finish! Here is the difference:\n",
            "┏━━━━━━━━━━━━┳━━━━━━━━━━━━━━━━┳━━━━━━━━━━━━━━━━━━┓\n",
            "┃\u001b[1m \u001b[0m\u001b[1m          \u001b[0m\u001b[1m \u001b[0m┃\u001b[1m \u001b[0m\u001b[1mOriginal Model\u001b[0m\u001b[1m \u001b[0m┃\u001b[1m \u001b[0m\u001b[1mSimplified Model\u001b[0m\u001b[1m \u001b[0m┃\n",
            "┡━━━━━━━━━━━━╇━━━━━━━━━━━━━━━━╇━━━━━━━━━━━━━━━━━━┩\n",
            "│ Add        │ 31             │ 31               │\n",
            "│ Concat     │ 17             │ 17               │\n",
            "│ Constant   │ 286            │ \u001b[1;32m276             \u001b[0m │\n",
            "│ Conv       │ 129            │ 129              │\n",
            "│ MaxPool    │ 3              │ 3                │\n",
            "│ Mul        │ 138            │ 138              │\n",
            "│ Pow        │ 3              │ 3                │\n",
            "│ Reshape    │ 6              │ 6                │\n",
            "│ Resize     │ 3              │ 3                │\n",
            "│ Sigmoid    │ 135            │ 135              │\n",
            "│ Split      │ 3              │ 3                │\n",
            "│ Transpose  │ 3              │ 3                │\n",
            "│ Model Size │ 337.1MiB       │ 337.1MiB         │\n",
            "└────────────┴────────────────┴──────────────────┘\n"
          ]
        }
      ]
    },
    {
      "cell_type": "markdown",
      "source": [
        "## 2. Sanity Check"
      ],
      "metadata": {
        "id": "FBZhY9jSg0Tp"
      }
    },
    {
      "cell_type": "code",
      "source": [
        "# Loading model using ONNX-Runtime\n",
        "import onnxruntime as ort\n",
        "\n",
        "model_path = \"/content/drive/MyDrive/Aerial_River_Plastic_Wastes/yolov5x.onnx\"\n",
        "session = ort.InferenceSession(model_path)"
      ],
      "metadata": {
        "id": "HhpnnIgsg3d3"
      },
      "execution_count": 29,
      "outputs": []
    },
    {
      "cell_type": "code",
      "source": [
        "import cv2\n",
        "\n",
        "def pad_and_resize(image, target_size, pad_color=(0, 0, 0)):\n",
        "    \"\"\"\n",
        "    Resizes the image while preserving the aspect ratio, padding the shorter side.\n",
        "\n",
        "    Parameters:\n",
        "    - image: input image (numpy array)\n",
        "    - target_size: tuple (width, height) of the target size\n",
        "    - pad_color: color to use for padding, default is black (0, 0, 0)\n",
        "\n",
        "    Returns:\n",
        "    - resized image with padding\n",
        "    \"\"\"\n",
        "    original_height, original_width = image.shape[:2]\n",
        "    target_width, target_height = target_size\n",
        "\n",
        "    # Calculate the aspect ratio of the image and the target size\n",
        "    aspect_ratio_image = original_width / original_height\n",
        "    aspect_ratio_target = target_width / target_height\n",
        "\n",
        "    if aspect_ratio_image > aspect_ratio_target:\n",
        "        # Wider than target, resize based on width\n",
        "        new_width = target_width\n",
        "        new_height = int(new_width / aspect_ratio_image)\n",
        "    else:\n",
        "        # Taller than target, resize based on height\n",
        "        new_height = target_height\n",
        "        new_width = int(new_height * aspect_ratio_image)\n",
        "\n",
        "    resized_image = cv2.resize(image, (new_width, new_height), interpolation=cv2.INTER_AREA)\n",
        "\n",
        "    # Calculate padding\n",
        "    pad_top = (target_height - new_height) // 2\n",
        "    pad_bottom = target_height - new_height - pad_top\n",
        "    pad_left = (target_width - new_width) // 2\n",
        "    pad_right = target_width - new_width - pad_left\n",
        "\n",
        "    # Pad the image\n",
        "    padded_image = cv2.copyMakeBorder(resized_image, pad_top, pad_bottom, pad_left, pad_right, cv2.BORDER_CONSTANT, value=pad_color)\n",
        "\n",
        "    return padded_image"
      ],
      "metadata": {
        "id": "ux049qY8g-gV"
      },
      "execution_count": 30,
      "outputs": []
    },
    {
      "cell_type": "code",
      "source": [
        "import numpy as np\n",
        "\n",
        "def image_loader(image_path, target_size=(640, 640)):\n",
        "  img = cv2.imread(image_path) #BGR\n",
        "  img = pad_and_resize(img, target_size)\n",
        "  img = img[::-1] #RGB\n",
        "  img = img[np.newaxis, ...].astype(np.float32)\n",
        "  img = img.transpose(0, 3, 1, 2)\n",
        "  return img"
      ],
      "metadata": {
        "id": "tBEPwP4qhCqd"
      },
      "execution_count": 31,
      "outputs": []
    },
    {
      "cell_type": "code",
      "source": [
        "input_img_path = \"/content/Aerial_Location_1_14.jpg\"\n",
        "img = image_loader(input_img_path)\n",
        "print(img.shape)"
      ],
      "metadata": {
        "colab": {
          "base_uri": "https://localhost:8080/"
        },
        "id": "GY1SomquhEYD",
        "outputId": "05008f06-1f5c-441f-fe3f-7c5caee67c69"
      },
      "execution_count": 32,
      "outputs": [
        {
          "output_type": "stream",
          "name": "stdout",
          "text": [
            "(1, 3, 640, 640)\n"
          ]
        }
      ]
    },
    {
      "cell_type": "code",
      "source": [
        "outputs = session.run(None, {\"images\": img})"
      ],
      "metadata": {
        "id": "JnGad_ofhPwf"
      },
      "execution_count": 33,
      "outputs": []
    },
    {
      "cell_type": "code",
      "source": [
        "outputs"
      ],
      "metadata": {
        "colab": {
          "base_uri": "https://localhost:8080/"
        },
        "id": "1_Z1CtcNhQSN",
        "outputId": "28f71c7b-f485-44ee-e0c0-574d309013a2"
      },
      "execution_count": 34,
      "outputs": [
        {
          "output_type": "execute_result",
          "data": {
            "text/plain": [
              "[array([[[     1.1087,      4.4789,      2.7878, ...,     -1.5955,     0.60007,     0.45965],\n",
              "         [     11.364,      3.9968,      4.8552, ...,     -1.2081,     0.37581,     0.26707],\n",
              "         [     18.861,      3.6331,      5.1038, ...,     -1.1313,     0.64896,     0.29261],\n",
              "         ...,\n",
              "         [        558,      619.54,         455, ...,     0.42701,     -1.8159,     0.75374],\n",
              "         [     587.31,      617.47,      456.54, ...,     0.45112,     -1.7365,     0.71934],\n",
              "         [     618.18,       624.7,      466.73, ...,     0.47588,     -1.6322,     0.73714]]], dtype=float32),\n",
              " array([[[[  -0.089977,    -0.12742,    -0.13962, ...,    -0.10317,    -0.13129,    -0.11135],\n",
              "          [   -0.11563,    -0.15957,    -0.17358, ...,    -0.09857,    -0.14241,       -0.14],\n",
              "          [     -0.106,    -0.16191,    -0.18623, ...,    -0.11213,     -0.1564,      -0.159],\n",
              "          ...,\n",
              "          [   -0.10583,    -0.15212,    -0.20448, ...,    -0.19162,    -0.22708,     -0.2087],\n",
              "          [   -0.11247,    -0.15062,    -0.19642, ...,     -0.1838,    -0.21589,    -0.19543],\n",
              "          [   -0.11653,    -0.15084,    -0.16347, ...,     -0.1754,    -0.20499,    -0.19446]],\n",
              " \n",
              "         [[     0.1451,    0.098696,    0.084204, ...,    0.090085,    0.086775,     0.13043],\n",
              "          [    0.11274,    0.038804,   0.0016976, ...,   0.0012082,   0.0020982,    0.072831],\n",
              "          [   0.091933,    0.016986,   -0.024386, ...,   -0.033835,   -0.034111,        0.05],\n",
              "          ...,\n",
              "          [    0.10494,     0.07253,    0.023141, ...,    -0.13335,     -0.1124,    0.028685],\n",
              "          [    0.11947,    0.095531,    0.045868, ...,    -0.11993,   -0.085489,      0.0533],\n",
              "          [    0.13325,     0.11713,    0.091127, ...,   -0.026994,  -0.0036902,     0.10285]],\n",
              " \n",
              "         [[    0.10105,      0.1697,     0.24018, ...,     0.23716,     0.25578,     0.20098],\n",
              "          [    0.14109,      0.2765,     0.43161, ...,     0.43102,     0.45831,     0.33903],\n",
              "          [    0.18491,     0.33174,     0.52193, ...,     0.51349,     0.55048,     0.38083],\n",
              "          ...,\n",
              "          [    0.11975,     0.19735,     0.36211, ...,     0.56118,     0.55448,     0.36632],\n",
              "          [   0.095882,     0.17316,     0.34614, ...,     0.56309,     0.51536,     0.33684],\n",
              "          [    0.10672,     0.18386,      0.3013, ...,     0.42181,     0.40388,     0.25876]],\n",
              " \n",
              "         ...,\n",
              " \n",
              "         [[   0.095992,     0.12885,     0.11652, ...,    0.087132,    0.067079,     0.10031],\n",
              "          [   0.083219,     0.18123,     0.11026, ...,    0.015668,  -0.0084494,    0.043959],\n",
              "          [   0.045489,     0.16737,    0.074657, ...,   -0.038262,   -0.065679,   0.0056621],\n",
              "          ...,\n",
              "          [   0.035068,     0.16918,     0.08033, ...,    -0.13155,    -0.13137,   -0.029765],\n",
              "          [   0.051756,     0.19539,    0.071479, ...,    -0.12389,     -0.1088,   -0.010252],\n",
              "          [   0.067451,     0.12137,     0.02593, ...,   -0.072958,   -0.067859,    0.015594]],\n",
              " \n",
              "         [[    0.24659,    0.082309,    0.015894, ...,    0.021932,     0.03577,      0.1598],\n",
              "          [     0.1387,   -0.093038,    -0.15709, ...,    -0.14403,    -0.12658,    0.015064],\n",
              "          [    0.11831,    -0.10798,     -0.1684, ...,    -0.17154,    -0.15527,   -0.013052],\n",
              "          ...,\n",
              "          [    0.13551,    0.011969,    -0.04183, ...,    -0.24393,    -0.20306,    0.076143],\n",
              "          [    0.14969,    0.019662,   -0.027039, ...,     -0.2392,    -0.18368,     0.11459],\n",
              "          [     0.2058,    0.086239,    0.072217, ...,     -0.1377,   -0.091291,     0.17225]],\n",
              " \n",
              "         [[   -0.10044,    0.016316,    0.041393, ...,    0.012055,    0.016127,   -0.068359],\n",
              "          [   0.022947,     0.30624,     0.31569, ...,     0.21879,     0.25203,    0.083617],\n",
              "          [   0.045639,     0.32881,     0.33554, ...,     0.24527,     0.29102,     0.11996],\n",
              "          ...,\n",
              "          [   0.056321,     0.19506,     0.16803, ...,     0.39782,     0.42912,    0.086499],\n",
              "          [   0.045017,     0.15538,       0.124, ...,     0.39274,     0.37964,     0.03569],\n",
              "          [  -0.015805,    0.085527,    0.043601, ...,     0.23358,       0.232,   -0.007079]]]], dtype=float32)]"
            ]
          },
          "metadata": {},
          "execution_count": 34
        }
      ]
    }
  ],
  "metadata": {
    "accelerator": "GPU",
    "colab": {
      "provenance": []
    },
    "kernelspec": {
      "display_name": "Python 3 (ipykernel)",
      "language": "python",
      "name": "python3"
    },
    "language_info": {
      "codemirror_mode": {
        "name": "ipython",
        "version": 3
      },
      "file_extension": ".py",
      "mimetype": "text/x-python",
      "name": "python",
      "nbconvert_exporter": "python",
      "pygments_lexer": "ipython3",
      "version": "3.7.12"
    }
  },
  "nbformat": 4,
  "nbformat_minor": 0
}