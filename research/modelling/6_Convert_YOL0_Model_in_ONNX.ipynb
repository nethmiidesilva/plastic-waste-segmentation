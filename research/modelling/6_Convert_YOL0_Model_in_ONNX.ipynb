{
  "cells": [
    {
      "cell_type": "markdown",
      "source": [
        "## 0. Setup\n",
        "\n",
        "Install ultralytics to easily get access to YOLO tools.\n"
      ],
      "metadata": {
        "id": "5VslSFVtQ6HK"
      }
    },
    {
      "cell_type": "code",
      "source": [
        "!pip install ultralytics onnx onnx-simplifier onnxruntime"
      ],
      "metadata": {
        "colab": {
          "base_uri": "https://localhost:8080/"
        },
        "id": "zUWkQvEtREcU",
        "outputId": "80c4c6b0-30b1-448f-85d6-3ffeb5fc7618"
      },
      "execution_count": 1,
      "outputs": [
        {
          "output_type": "stream",
          "name": "stdout",
          "text": [
            "Collecting ultralytics\n",
            "  Downloading ultralytics-8.3.58-py3-none-any.whl.metadata (35 kB)\n",
            "Collecting onnx\n",
            "  Downloading onnx-1.17.0-cp310-cp310-manylinux_2_17_x86_64.manylinux2014_x86_64.whl.metadata (16 kB)\n",
            "Collecting onnx-simplifier\n",
            "  Downloading onnx_simplifier-0.4.36-cp310-cp310-manylinux_2_17_x86_64.manylinux2014_x86_64.whl.metadata (4.3 kB)\n",
            "Collecting onnxruntime\n",
            "  Downloading onnxruntime-1.20.1-cp310-cp310-manylinux_2_27_x86_64.manylinux_2_28_x86_64.whl.metadata (4.5 kB)\n",
            "Requirement already satisfied: numpy>=1.23.0 in /usr/local/lib/python3.10/dist-packages (from ultralytics) (1.26.4)\n",
            "Requirement already satisfied: matplotlib>=3.3.0 in /usr/local/lib/python3.10/dist-packages (from ultralytics) (3.8.0)\n",
            "Requirement already satisfied: opencv-python>=4.6.0 in /usr/local/lib/python3.10/dist-packages (from ultralytics) (4.10.0.84)\n",
            "Requirement already satisfied: pillow>=7.1.2 in /usr/local/lib/python3.10/dist-packages (from ultralytics) (11.0.0)\n",
            "Requirement already satisfied: pyyaml>=5.3.1 in /usr/local/lib/python3.10/dist-packages (from ultralytics) (6.0.2)\n",
            "Requirement already satisfied: requests>=2.23.0 in /usr/local/lib/python3.10/dist-packages (from ultralytics) (2.32.3)\n",
            "Requirement already satisfied: scipy>=1.4.1 in /usr/local/lib/python3.10/dist-packages (from ultralytics) (1.13.1)\n",
            "Requirement already satisfied: torch>=1.8.0 in /usr/local/lib/python3.10/dist-packages (from ultralytics) (2.5.1+cu121)\n",
            "Requirement already satisfied: torchvision>=0.9.0 in /usr/local/lib/python3.10/dist-packages (from ultralytics) (0.20.1+cu121)\n",
            "Requirement already satisfied: tqdm>=4.64.0 in /usr/local/lib/python3.10/dist-packages (from ultralytics) (4.67.1)\n",
            "Requirement already satisfied: psutil in /usr/local/lib/python3.10/dist-packages (from ultralytics) (5.9.5)\n",
            "Requirement already satisfied: py-cpuinfo in /usr/local/lib/python3.10/dist-packages (from ultralytics) (9.0.0)\n",
            "Requirement already satisfied: pandas>=1.1.4 in /usr/local/lib/python3.10/dist-packages (from ultralytics) (2.2.2)\n",
            "Requirement already satisfied: seaborn>=0.11.0 in /usr/local/lib/python3.10/dist-packages (from ultralytics) (0.13.2)\n",
            "Collecting ultralytics-thop>=2.0.0 (from ultralytics)\n",
            "  Downloading ultralytics_thop-2.0.13-py3-none-any.whl.metadata (9.4 kB)\n",
            "Requirement already satisfied: protobuf>=3.20.2 in /usr/local/lib/python3.10/dist-packages (from onnx) (4.25.5)\n",
            "Requirement already satisfied: rich in /usr/local/lib/python3.10/dist-packages (from onnx-simplifier) (13.9.4)\n",
            "Collecting coloredlogs (from onnxruntime)\n",
            "  Downloading coloredlogs-15.0.1-py2.py3-none-any.whl.metadata (12 kB)\n",
            "Requirement already satisfied: flatbuffers in /usr/local/lib/python3.10/dist-packages (from onnxruntime) (24.3.25)\n",
            "Requirement already satisfied: packaging in /usr/local/lib/python3.10/dist-packages (from onnxruntime) (24.2)\n",
            "Requirement already satisfied: sympy in /usr/local/lib/python3.10/dist-packages (from onnxruntime) (1.13.1)\n",
            "Requirement already satisfied: contourpy>=1.0.1 in /usr/local/lib/python3.10/dist-packages (from matplotlib>=3.3.0->ultralytics) (1.3.1)\n",
            "Requirement already satisfied: cycler>=0.10 in /usr/local/lib/python3.10/dist-packages (from matplotlib>=3.3.0->ultralytics) (0.12.1)\n",
            "Requirement already satisfied: fonttools>=4.22.0 in /usr/local/lib/python3.10/dist-packages (from matplotlib>=3.3.0->ultralytics) (4.55.3)\n",
            "Requirement already satisfied: kiwisolver>=1.0.1 in /usr/local/lib/python3.10/dist-packages (from matplotlib>=3.3.0->ultralytics) (1.4.7)\n",
            "Requirement already satisfied: pyparsing>=2.3.1 in /usr/local/lib/python3.10/dist-packages (from matplotlib>=3.3.0->ultralytics) (3.2.0)\n",
            "Requirement already satisfied: python-dateutil>=2.7 in /usr/local/lib/python3.10/dist-packages (from matplotlib>=3.3.0->ultralytics) (2.8.2)\n",
            "Requirement already satisfied: pytz>=2020.1 in /usr/local/lib/python3.10/dist-packages (from pandas>=1.1.4->ultralytics) (2024.2)\n",
            "Requirement already satisfied: tzdata>=2022.7 in /usr/local/lib/python3.10/dist-packages (from pandas>=1.1.4->ultralytics) (2024.2)\n",
            "Requirement already satisfied: charset-normalizer<4,>=2 in /usr/local/lib/python3.10/dist-packages (from requests>=2.23.0->ultralytics) (3.4.0)\n",
            "Requirement already satisfied: idna<4,>=2.5 in /usr/local/lib/python3.10/dist-packages (from requests>=2.23.0->ultralytics) (3.10)\n",
            "Requirement already satisfied: urllib3<3,>=1.21.1 in /usr/local/lib/python3.10/dist-packages (from requests>=2.23.0->ultralytics) (2.2.3)\n",
            "Requirement already satisfied: certifi>=2017.4.17 in /usr/local/lib/python3.10/dist-packages (from requests>=2.23.0->ultralytics) (2024.12.14)\n",
            "Requirement already satisfied: filelock in /usr/local/lib/python3.10/dist-packages (from torch>=1.8.0->ultralytics) (3.16.1)\n",
            "Requirement already satisfied: typing-extensions>=4.8.0 in /usr/local/lib/python3.10/dist-packages (from torch>=1.8.0->ultralytics) (4.12.2)\n",
            "Requirement already satisfied: networkx in /usr/local/lib/python3.10/dist-packages (from torch>=1.8.0->ultralytics) (3.4.2)\n",
            "Requirement already satisfied: jinja2 in /usr/local/lib/python3.10/dist-packages (from torch>=1.8.0->ultralytics) (3.1.4)\n",
            "Requirement already satisfied: fsspec in /usr/local/lib/python3.10/dist-packages (from torch>=1.8.0->ultralytics) (2024.10.0)\n",
            "Requirement already satisfied: mpmath<1.4,>=1.1.0 in /usr/local/lib/python3.10/dist-packages (from sympy->onnxruntime) (1.3.0)\n",
            "Collecting humanfriendly>=9.1 (from coloredlogs->onnxruntime)\n",
            "  Downloading humanfriendly-10.0-py2.py3-none-any.whl.metadata (9.2 kB)\n",
            "Requirement already satisfied: markdown-it-py>=2.2.0 in /usr/local/lib/python3.10/dist-packages (from rich->onnx-simplifier) (3.0.0)\n",
            "Requirement already satisfied: pygments<3.0.0,>=2.13.0 in /usr/local/lib/python3.10/dist-packages (from rich->onnx-simplifier) (2.18.0)\n",
            "Requirement already satisfied: mdurl~=0.1 in /usr/local/lib/python3.10/dist-packages (from markdown-it-py>=2.2.0->rich->onnx-simplifier) (0.1.2)\n",
            "Requirement already satisfied: six>=1.5 in /usr/local/lib/python3.10/dist-packages (from python-dateutil>=2.7->matplotlib>=3.3.0->ultralytics) (1.17.0)\n",
            "Requirement already satisfied: MarkupSafe>=2.0 in /usr/local/lib/python3.10/dist-packages (from jinja2->torch>=1.8.0->ultralytics) (3.0.2)\n",
            "Downloading ultralytics-8.3.58-py3-none-any.whl (905 kB)\n",
            "\u001b[2K   \u001b[90m━━━━━━━━━━━━━━━━━━━━━━━━━━━━━━━━━━━━━━━━\u001b[0m \u001b[32m905.3/905.3 kB\u001b[0m \u001b[31m36.6 MB/s\u001b[0m eta \u001b[36m0:00:00\u001b[0m\n",
            "\u001b[?25hDownloading onnx-1.17.0-cp310-cp310-manylinux_2_17_x86_64.manylinux2014_x86_64.whl (16.0 MB)\n",
            "\u001b[2K   \u001b[90m━━━━━━━━━━━━━━━━━━━━━━━━━━━━━━━━━━━━━━━━\u001b[0m \u001b[32m16.0/16.0 MB\u001b[0m \u001b[31m64.6 MB/s\u001b[0m eta \u001b[36m0:00:00\u001b[0m\n",
            "\u001b[?25hDownloading onnx_simplifier-0.4.36-cp310-cp310-manylinux_2_17_x86_64.manylinux2014_x86_64.whl (2.3 MB)\n",
            "\u001b[2K   \u001b[90m━━━━━━━━━━━━━━━━━━━━━━━━━━━━━━━━━━━━━━━━\u001b[0m \u001b[32m2.3/2.3 MB\u001b[0m \u001b[31m78.5 MB/s\u001b[0m eta \u001b[36m0:00:00\u001b[0m\n",
            "\u001b[?25hDownloading onnxruntime-1.20.1-cp310-cp310-manylinux_2_27_x86_64.manylinux_2_28_x86_64.whl (13.3 MB)\n",
            "\u001b[2K   \u001b[90m━━━━━━━━━━━━━━━━━━━━━━━━━━━━━━━━━━━━━━━━\u001b[0m \u001b[32m13.3/13.3 MB\u001b[0m \u001b[31m87.9 MB/s\u001b[0m eta \u001b[36m0:00:00\u001b[0m\n",
            "\u001b[?25hDownloading ultralytics_thop-2.0.13-py3-none-any.whl (26 kB)\n",
            "Downloading coloredlogs-15.0.1-py2.py3-none-any.whl (46 kB)\n",
            "\u001b[2K   \u001b[90m━━━━━━━━━━━━━━━━━━━━━━━━━━━━━━━━━━━━━━━━\u001b[0m \u001b[32m46.0/46.0 kB\u001b[0m \u001b[31m4.0 MB/s\u001b[0m eta \u001b[36m0:00:00\u001b[0m\n",
            "\u001b[?25hDownloading humanfriendly-10.0-py2.py3-none-any.whl (86 kB)\n",
            "\u001b[2K   \u001b[90m━━━━━━━━━━━━━━━━━━━━━━━━━━━━━━━━━━━━━━━━\u001b[0m \u001b[32m86.8/86.8 kB\u001b[0m \u001b[31m9.1 MB/s\u001b[0m eta \u001b[36m0:00:00\u001b[0m\n",
            "\u001b[?25hInstalling collected packages: onnx, humanfriendly, coloredlogs, ultralytics-thop, onnxruntime, onnx-simplifier, ultralytics\n",
            "Successfully installed coloredlogs-15.0.1 humanfriendly-10.0 onnx-1.17.0 onnx-simplifier-0.4.36 onnxruntime-1.20.1 ultralytics-8.3.58 ultralytics-thop-2.0.13\n"
          ]
        }
      ]
    },
    {
      "cell_type": "code",
      "source": [
        "from google.colab import drive\n",
        "drive.mount('/content/drive')"
      ],
      "metadata": {
        "colab": {
          "base_uri": "https://localhost:8080/"
        },
        "id": "fVLj5R4_f05B",
        "outputId": "a182ab48-4fc0-4041-d2ac-e6833ea1eb3c"
      },
      "execution_count": 2,
      "outputs": [
        {
          "output_type": "stream",
          "name": "stdout",
          "text": [
            "Mounted at /content/drive\n"
          ]
        }
      ]
    },
    {
      "cell_type": "markdown",
      "metadata": {
        "id": "7mGmQbAO5pQb"
      },
      "source": [
        "## 1. Convert model\n",
        "❗If you don't have a Nvidia GPU, set `optimize_cpu=True` to optimize for CPU inference."
      ]
    },
    {
      "cell_type": "code",
      "execution_count": 20,
      "metadata": {
        "colab": {
          "base_uri": "https://localhost:8080/",
          "height": 298
        },
        "id": "wbvMlHd_QwMG",
        "outputId": "dd6cdb5e-0310-4a59-f8bb-6d6f00b45f04"
      },
      "outputs": [
        {
          "output_type": "stream",
          "name": "stdout",
          "text": [
            "Ultralytics 8.3.58 🚀 Python-3.10.12 torch-2.5.1+cu121 CPU (Intel Xeon 2.00GHz)\n",
            "YOLO11x-seg summary (fused): 491 layers, 62,004,438 parameters, 0 gradients, 318.5 GFLOPs\n",
            "\n",
            "\u001b[34m\u001b[1mPyTorch:\u001b[0m starting from '/content/drive/MyDrive/Aerial_River_Plastic_Wastes/yolov11x.pt' with input shape (1, 3, 640, 640) BCHW and output shape(s) ((1, 38, 8400), (1, 32, 160, 160)) (119.0 MB)\n",
            "\n",
            "\u001b[34m\u001b[1mONNX:\u001b[0m starting export with onnx 1.17.0 opset 19...\n",
            "\u001b[34m\u001b[1mONNX:\u001b[0m slimming with onnxslim 0.1.47...\n",
            "\u001b[34m\u001b[1mONNX:\u001b[0m export success ✅ 12.2s, saved as '/content/drive/MyDrive/Aerial_River_Plastic_Wastes/yolov11x.onnx' (236.9 MB)\n",
            "\n",
            "Export complete (22.6s)\n",
            "Results saved to \u001b[1m/content/drive/MyDrive/Aerial_River_Plastic_Wastes\u001b[0m\n",
            "Predict:         yolo predict task=segment model=/content/drive/MyDrive/Aerial_River_Plastic_Wastes/yolov11x.onnx imgsz=640  \n",
            "Validate:        yolo val task=segment model=/content/drive/MyDrive/Aerial_River_Plastic_Wastes/yolov11x.onnx imgsz=640 data=/home/anokitv/anoubhav/action_recognition/obj/yolov11_code/data_yolov11/Aerial_River_Plastic_Wastes-10/data.yaml  \n",
            "Visualize:       https://netron.app\n"
          ]
        },
        {
          "output_type": "execute_result",
          "data": {
            "text/plain": [
              "'/content/drive/MyDrive/Aerial_River_Plastic_Wastes/yolov11x.onnx'"
            ],
            "application/vnd.google.colaboratory.intrinsic+json": {
              "type": "string"
            }
          },
          "metadata": {},
          "execution_count": 20
        }
      ],
      "source": [
        "from ultralytics import YOLO\n",
        "\n",
        "model_name = '/content/drive/MyDrive/Aerial_River_Plastic_Wastes/yolov11x.pt'\n",
        "input_width = 640\n",
        "input_height = 640\n",
        "\n",
        "model = YOLO(model_name)\n",
        "model.export(format=\"onnx\", imgsz=[input_height,input_width], optimize=True)"
      ]
    },
    {
      "cell_type": "code",
      "source": [
        "!onnxsim /content/drive/MyDrive/Aerial_River_Plastic_Wastes/yolov11x.onnx /content/drive/MyDrive/Aerial_River_Plastic_Wastes/yolov11x.onnx\n"
      ],
      "metadata": {
        "colab": {
          "base_uri": "https://localhost:8080/"
        },
        "id": "L0MgENNnYZ7o",
        "outputId": "e4ecadd6-1bb4-4b95-e965-f131112558a0"
      },
      "execution_count": 22,
      "outputs": [
        {
          "output_type": "stream",
          "name": "stdout",
          "text": [
            "Simplifying\u001b[33m...\u001b[0m\n",
            "Finish! Here is the difference:\n",
            "┏━━━━━━━━━━━━━━━┳━━━━━━━━━━━━━━━━┳━━━━━━━━━━━━━━━━━━┓\n",
            "┃\u001b[1m \u001b[0m\u001b[1m             \u001b[0m\u001b[1m \u001b[0m┃\u001b[1m \u001b[0m\u001b[1mOriginal Model\u001b[0m\u001b[1m \u001b[0m┃\u001b[1m \u001b[0m\u001b[1mSimplified Model\u001b[0m\u001b[1m \u001b[0m┃\n",
            "┡━━━━━━━━━━━━━━━╇━━━━━━━━━━━━━━━━╇━━━━━━━━━━━━━━━━━━┩\n",
            "│ Add           │ 40             │ 40               │\n",
            "│ Concat        │ 37             │ 37               │\n",
            "│ Constant      │ 394            │ \u001b[1;32m393             \u001b[0m │\n",
            "│ Conv          │ 186            │ 186              │\n",
            "│ ConvTranspose │ 1              │ 1                │\n",
            "│ Div           │ 1              │ 1                │\n",
            "│ MatMul        │ 4              │ 4                │\n",
            "│ MaxPool       │ 3              │ 3                │\n",
            "│ Mul           │ 171            │ 171              │\n",
            "│ Reshape       │ 14             │ 14               │\n",
            "│ Resize        │ 2              │ 2                │\n",
            "│ Sigmoid       │ 169            │ 169              │\n",
            "│ Slice         │ 2              │ 2                │\n",
            "│ Softmax       │ 3              │ 3                │\n",
            "│ Split         │ 12             │ 12               │\n",
            "│ Sub           │ 2              │ 2                │\n",
            "│ Transpose     │ 5              │ 5                │\n",
            "│ Model Size    │ 236.9MiB       │ \u001b[1;32m236.8MiB        \u001b[0m │\n",
            "└───────────────┴────────────────┴──────────────────┘\n"
          ]
        }
      ]
    },
    {
      "cell_type": "markdown",
      "source": [
        "## 2. Sanity Check"
      ],
      "metadata": {
        "id": "FBZhY9jSg0Tp"
      }
    },
    {
      "cell_type": "code",
      "source": [
        "# Loading model using ONNX-Runtime\n",
        "import onnxruntime as ort\n",
        "\n",
        "model_path = \"/content/drive/MyDrive/Aerial_River_Plastic_Wastes/yolov11L.onnx\"\n",
        "session = ort.InferenceSession(model_path)"
      ],
      "metadata": {
        "id": "HhpnnIgsg3d3"
      },
      "execution_count": 23,
      "outputs": []
    },
    {
      "cell_type": "code",
      "source": [
        "import cv2\n",
        "\n",
        "def pad_and_resize(image, target_size, pad_color=(0, 0, 0)):\n",
        "    \"\"\"\n",
        "    Resizes the image while preserving the aspect ratio, padding the shorter side.\n",
        "\n",
        "    Parameters:\n",
        "    - image: input image (numpy array)\n",
        "    - target_size: tuple (width, height) of the target size\n",
        "    - pad_color: color to use for padding, default is black (0, 0, 0)\n",
        "\n",
        "    Returns:\n",
        "    - resized image with padding\n",
        "    \"\"\"\n",
        "    original_height, original_width = image.shape[:2]\n",
        "    target_width, target_height = target_size\n",
        "\n",
        "    # Calculate the aspect ratio of the image and the target size\n",
        "    aspect_ratio_image = original_width / original_height\n",
        "    aspect_ratio_target = target_width / target_height\n",
        "\n",
        "    if aspect_ratio_image > aspect_ratio_target:\n",
        "        # Wider than target, resize based on width\n",
        "        new_width = target_width\n",
        "        new_height = int(new_width / aspect_ratio_image)\n",
        "    else:\n",
        "        # Taller than target, resize based on height\n",
        "        new_height = target_height\n",
        "        new_width = int(new_height * aspect_ratio_image)\n",
        "\n",
        "    resized_image = cv2.resize(image, (new_width, new_height), interpolation=cv2.INTER_AREA)\n",
        "\n",
        "    # Calculate padding\n",
        "    pad_top = (target_height - new_height) // 2\n",
        "    pad_bottom = target_height - new_height - pad_top\n",
        "    pad_left = (target_width - new_width) // 2\n",
        "    pad_right = target_width - new_width - pad_left\n",
        "\n",
        "    # Pad the image\n",
        "    padded_image = cv2.copyMakeBorder(resized_image, pad_top, pad_bottom, pad_left, pad_right, cv2.BORDER_CONSTANT, value=pad_color)\n",
        "\n",
        "    return padded_image"
      ],
      "metadata": {
        "id": "ux049qY8g-gV"
      },
      "execution_count": 24,
      "outputs": []
    },
    {
      "cell_type": "code",
      "source": [
        "import numpy as np\n",
        "\n",
        "def image_loader(image_path, target_size=(640, 640)):\n",
        "  img = cv2.imread(image_path) #BGR\n",
        "  img = pad_and_resize(img, target_size)\n",
        "  img = img[::-1] #RGB\n",
        "  img = img[np.newaxis, ...].astype(np.float32)\n",
        "  img = img.transpose(0, 3, 1, 2)\n",
        "  return img"
      ],
      "metadata": {
        "id": "tBEPwP4qhCqd"
      },
      "execution_count": 7,
      "outputs": []
    },
    {
      "cell_type": "code",
      "source": [
        "input_img_path = \"/content/Aerial_Location_1_14.jpg\"\n",
        "img = image_loader(input_img_path)\n",
        "print(img.shape)"
      ],
      "metadata": {
        "colab": {
          "base_uri": "https://localhost:8080/"
        },
        "id": "GY1SomquhEYD",
        "outputId": "58fef04b-06d5-455e-fd55-10990e3b601e"
      },
      "execution_count": 9,
      "outputs": [
        {
          "output_type": "stream",
          "name": "stdout",
          "text": [
            "(1, 3, 640, 640)\n"
          ]
        }
      ]
    },
    {
      "cell_type": "code",
      "source": [
        "outputs = session.run(None, {\"images\": img})"
      ],
      "metadata": {
        "id": "JnGad_ofhPwf"
      },
      "execution_count": 25,
      "outputs": []
    },
    {
      "cell_type": "code",
      "source": [
        "outputs"
      ],
      "metadata": {
        "colab": {
          "base_uri": "https://localhost:8080/"
        },
        "id": "1_Z1CtcNhQSN",
        "outputId": "909c34d8-1ba9-49b9-d11b-e2f6eecc3d21"
      },
      "execution_count": 26,
      "outputs": [
        {
          "output_type": "execute_result",
          "data": {
            "text/plain": [
              "[array([[[     3.8478,      21.678,      32.963, ...,       472.9,      490.11,       553.1],\n",
              "         [     13.247,      13.032,      12.548, ...,      635.88,      619.06,      614.56],\n",
              "         [     8.1469,      44.121,      127.95, ...,      420.77,      318.26,       182.7],\n",
              "         ...,\n",
              "         [  0.0073061,    0.035067,     0.11438, ...,     0.53436,     0.36118,     0.11159],\n",
              "         [   -0.75675,     -1.1063,     -1.3782, ...,     -0.1679,    -0.12727,   -0.057011],\n",
              "         [    -0.3512,    -0.37302,    -0.52974, ...,    -0.66083,    -0.43083,    -0.13249]]], dtype=float32),\n",
              " array([[[[   0.092001,    0.058503,     0.01511, ...,     0.15329,     0.17032,     0.22558],\n",
              "          [    0.16392,     0.13497,     0.15448, ...,     0.21817,     0.19956,     0.15816],\n",
              "          [    0.16572,     0.15756,     0.21512, ...,     0.21896,     0.24167,     0.20227],\n",
              "          ...,\n",
              "          [    0.35349,     0.27386,     0.48055, ...,     0.27963,     0.40457,     0.37733],\n",
              "          [    0.42406,     0.26264,     0.53288, ...,     0.35029,     0.37733,     0.36997],\n",
              "          [    0.46144,     0.27136,     0.29894, ...,    0.056601,     0.12583,      0.2705]],\n",
              " \n",
              "         [[    0.12111,     0.27519,     0.35623, ...,     0.65696,     0.44662,     0.23907],\n",
              "          [    0.10599,     0.37306,     0.47505, ...,      0.9684,     0.87706,     0.75406],\n",
              "          [    0.10765,     0.44365,     0.62653, ...,     0.82006,     0.84363,      0.8934],\n",
              "          ...,\n",
              "          [   -0.10938,    0.024503,     0.98689, ...,     0.81982,     0.80132,       0.536],\n",
              "          [  -0.026389,     0.35915,      1.3212, ...,      1.0136,     0.97139,     0.48955],\n",
              "          [  -0.022338,     0.18129,     0.44214, ...,     0.40899,     0.24007,     0.12731]],\n",
              " \n",
              "         [[    0.21491,    0.065673,   -0.018113, ...,    0.056756,     0.12629,    0.097398],\n",
              "          [     0.5529,     0.20883,     0.13745, ...,     0.18937,     0.35298,    0.063937],\n",
              "          [    0.52487,    0.096968,     0.12807, ...,    0.036195,      0.1708,    0.091974],\n",
              "          ...,\n",
              "          [   0.084891,    -0.27615,    -0.27321, ...,      1.0332,      1.6565,     0.74803],\n",
              "          [   0.056558,    -0.26783,    -0.19867, ...,      1.2527,      1.4885,     0.62599],\n",
              "          [    0.13775,   -0.016183,    -0.21678, ...,     0.74878,     0.74644,      0.3267]],\n",
              " \n",
              "         ...,\n",
              " \n",
              "         [[   0.093214,     0.16006,     0.11957, ...,     0.11409,    0.042564,     0.06576],\n",
              "          [    0.18197,     0.31921,     0.26193, ...,     0.19566,     0.16464,     0.33106],\n",
              "          [    0.20201,     0.36626,     0.31392, ...,     0.18817,     0.23285,     0.42977],\n",
              "          ...,\n",
              "          [   -0.27816,    -0.25808,     -0.2784, ...,     0.12606,     0.42092,     0.71121],\n",
              "          [   -0.27826,     -0.2481,    -0.27705, ...,     0.44569,     0.62394,     0.71925],\n",
              "          [   -0.24952,     -0.2756,    -0.22359, ...,     0.13904,     0.17012,     0.38257]],\n",
              " \n",
              "         [[   -0.21643,    -0.18963,     -0.2152, ...,   -0.032648,   -0.081775,    -0.15253],\n",
              "          [   -0.19029,    -0.13392,    -0.20654, ...,   0.0063925,    0.034546,  0.00036166],\n",
              "          [   -0.17249,    -0.11024,    -0.19561, ...,   -0.039755,   -0.045863,   -0.090443],\n",
              "          ...,\n",
              "          [   -0.23234,    -0.26146,    -0.23849, ...,     0.40653,     0.37356,      0.3147],\n",
              "          [   -0.20821,    -0.24137,     -0.2285, ...,     0.31981,     0.32235,     0.21023],\n",
              "          [   -0.10854,    -0.24454,    -0.20686, ...,    0.096427,    0.021244,   -0.020752]],\n",
              " \n",
              "         [[    0.27208,     0.22962,     0.25194, ...,     0.19003,     0.18911,      0.2335],\n",
              "          [    0.24717,     0.18233,     0.13668, ...,     0.25909,     0.26908,      0.1803],\n",
              "          [    0.16901,    0.042985,   0.0071168, ...,     0.15016,     0.15146,     0.12424],\n",
              "          ...,\n",
              "          [    0.14307,    -0.13881,    -0.23251, ...,    0.023108,   -0.038104,   -0.082337],\n",
              "          [     0.2081,   -0.081267,    -0.16538, ...,    -0.15744,    -0.14822,    -0.11514],\n",
              "          [    0.40028,     0.27485,     0.05952, ...,    -0.23172,    -0.19264,   -0.068861]]]], dtype=float32)]"
            ]
          },
          "metadata": {},
          "execution_count": 26
        }
      ]
    }
  ],
  "metadata": {
    "accelerator": "GPU",
    "colab": {
      "provenance": []
    },
    "kernelspec": {
      "display_name": "Python 3 (ipykernel)",
      "language": "python",
      "name": "python3"
    },
    "language_info": {
      "codemirror_mode": {
        "name": "ipython",
        "version": 3
      },
      "file_extension": ".py",
      "mimetype": "text/x-python",
      "name": "python",
      "nbconvert_exporter": "python",
      "pygments_lexer": "ipython3",
      "version": "3.7.12"
    }
  },
  "nbformat": 4,
  "nbformat_minor": 0
}